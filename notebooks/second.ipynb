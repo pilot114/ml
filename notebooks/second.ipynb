{
 "cells": [
  {
   "cell_type": "code",
   "execution_count": 18,
   "metadata": {},
   "outputs": [
    {
     "name": "stderr",
     "output_type": "stream",
     "text": [
      "C:\\Users\\oleg\\Anaconda3\\lib\\importlib\\_bootstrap.py:219: RuntimeWarning: numpy.ufunc size changed, may indicate binary incompatibility. Expected 192 from C header, got 216 from PyObject\n",
      "  return f(*args, **kwds)\n",
      "C:\\Users\\oleg\\Anaconda3\\lib\\importlib\\_bootstrap.py:219: RuntimeWarning: numpy.ufunc size changed, may indicate binary incompatibility. Expected 192 from C header, got 216 from PyObject\n",
      "  return f(*args, **kwds)\n"
     ]
    }
   ],
   "source": [
    "import pandas as pd\n",
    "df = pd.read_excel(\"USD.xlsx\")"
   ]
  },
  {
   "cell_type": "code",
   "execution_count": 19,
   "metadata": {},
   "outputs": [],
   "source": [
    "money = df[\"curs\"]"
   ]
  },
  {
   "cell_type": "code",
   "execution_count": 20,
   "metadata": {},
   "outputs": [
    {
     "data": {
      "text/plain": [
       "<matplotlib.axes._subplots.AxesSubplot at 0x19eab79a248>"
      ]
     },
     "execution_count": 20,
     "metadata": {},
     "output_type": "execute_result"
    }
   ],
   "source": [
    "money.plot()"
   ]
  },
  {
   "cell_type": "code",
   "execution_count": 21,
   "metadata": {},
   "outputs": [],
   "source": [
    "past = 7*4 # возьмем данные за последние 4 недели\n",
    "future = 7 # предсказываем на неделю"
   ]
  },
  {
   "cell_type": "code",
   "execution_count": 22,
   "metadata": {},
   "outputs": [
    {
     "data": {
      "text/plain": [
       "0     59.8961\n",
       "1     59.9533\n",
       "2     60.1614\n",
       "3     59.4978\n",
       "4     59.3700\n",
       "5     59.6067\n",
       "6     59.4015\n",
       "7     59.1830\n",
       "8     59.3521\n",
       "9     59.6697\n",
       "10    59.5034\n",
       "11    59.2168\n",
       "12    59.1489\n",
       "13    59.6356\n",
       "14    60.3196\n",
       "15    60.1618\n",
       "16    60.0851\n",
       "17    60.3099\n",
       "18    59.9858\n",
       "19    59.3137\n",
       "20    58.7121\n",
       "21    59.1933\n",
       "22    59.5129\n",
       "23    59.0235\n",
       "24    58.8457\n",
       "25    58.0619\n",
       "26    57.7388\n",
       "27    56.7719\n",
       "28    57.1507\n",
       "29    57.6342\n",
       "30    58.0967\n",
       "31    57.8590\n",
       "32    57.4762\n",
       "33    57.9371\n",
       "34    57.9627\n",
       "35    58.3776\n",
       "36    58.4067\n",
       "37    58.9099\n",
       "38    58.3370\n",
       "39    58.2630\n",
       "40    58.8318\n",
       "41    59.2174\n",
       "42    59.1327\n",
       "43    58.9540\n",
       "44    59.1128\n",
       "45    58.2437\n",
       "46    57.9344\n",
       "47    57.2847\n",
       "48    57.2323\n",
       "49    57.6360\n",
       "Name: curs, dtype: float64"
      ]
     },
     "execution_count": 22,
     "metadata": {},
     "output_type": "execute_result"
    }
   ],
   "source": [
    "money.head(50)"
   ]
  },
  {
   "cell_type": "code",
   "execution_count": 23,
   "metadata": {},
   "outputs": [],
   "source": [
    "start = past\n",
    "end = len(money) - future"
   ]
  },
  {
   "cell_type": "code",
   "execution_count": 24,
   "metadata": {},
   "outputs": [],
   "source": [
    "raw_df = []\n",
    "for i in range(start,end):\n",
    "    pastAndFutureValue = money[(i-past):(i+future)]\n",
    "    raw_df.append(list(pastAndFutureValue))"
   ]
  },
  {
   "cell_type": "code",
   "execution_count": 25,
   "metadata": {},
   "outputs": [],
   "source": [
    "past_columns = []\n",
    "for i in range(past):\n",
    "    past_columns.append(\"past_{}\".format(i))"
   ]
  },
  {
   "cell_type": "code",
   "execution_count": 26,
   "metadata": {},
   "outputs": [],
   "source": [
    "future_columns = []\n",
    "for i in range(future):\n",
    "    future_columns.append(\"future_{}\".format(i))"
   ]
  },
  {
   "cell_type": "code",
   "execution_count": 27,
   "metadata": {},
   "outputs": [],
   "source": [
    "df = pd.DataFrame(raw_df, columns=(past_columns+future_columns))"
   ]
  },
  {
   "cell_type": "code",
   "execution_count": 28,
   "metadata": {},
   "outputs": [
    {
     "data": {
      "text/html": [
       "<div>\n",
       "<style scoped>\n",
       "    .dataframe tbody tr th:only-of-type {\n",
       "        vertical-align: middle;\n",
       "    }\n",
       "\n",
       "    .dataframe tbody tr th {\n",
       "        vertical-align: top;\n",
       "    }\n",
       "\n",
       "    .dataframe thead th {\n",
       "        text-align: right;\n",
       "    }\n",
       "</style>\n",
       "<table border=\"1\" class=\"dataframe\">\n",
       "  <thead>\n",
       "    <tr style=\"text-align: right;\">\n",
       "      <th></th>\n",
       "      <th>past_0</th>\n",
       "      <th>past_1</th>\n",
       "      <th>past_2</th>\n",
       "      <th>past_3</th>\n",
       "      <th>past_4</th>\n",
       "      <th>past_5</th>\n",
       "      <th>past_6</th>\n",
       "      <th>past_7</th>\n",
       "      <th>past_8</th>\n",
       "      <th>past_9</th>\n",
       "      <th>...</th>\n",
       "      <th>past_25</th>\n",
       "      <th>past_26</th>\n",
       "      <th>past_27</th>\n",
       "      <th>future_0</th>\n",
       "      <th>future_1</th>\n",
       "      <th>future_2</th>\n",
       "      <th>future_3</th>\n",
       "      <th>future_4</th>\n",
       "      <th>future_5</th>\n",
       "      <th>future_6</th>\n",
       "    </tr>\n",
       "  </thead>\n",
       "  <tbody>\n",
       "    <tr>\n",
       "      <td>0</td>\n",
       "      <td>59.8961</td>\n",
       "      <td>59.9533</td>\n",
       "      <td>60.1614</td>\n",
       "      <td>59.4978</td>\n",
       "      <td>59.3700</td>\n",
       "      <td>59.6067</td>\n",
       "      <td>59.4015</td>\n",
       "      <td>59.1830</td>\n",
       "      <td>59.3521</td>\n",
       "      <td>59.6697</td>\n",
       "      <td>...</td>\n",
       "      <td>58.0619</td>\n",
       "      <td>57.7388</td>\n",
       "      <td>56.7719</td>\n",
       "      <td>57.1507</td>\n",
       "      <td>57.6342</td>\n",
       "      <td>58.0967</td>\n",
       "      <td>57.8590</td>\n",
       "      <td>57.4762</td>\n",
       "      <td>57.9371</td>\n",
       "      <td>57.9627</td>\n",
       "    </tr>\n",
       "    <tr>\n",
       "      <td>1</td>\n",
       "      <td>59.9533</td>\n",
       "      <td>60.1614</td>\n",
       "      <td>59.4978</td>\n",
       "      <td>59.3700</td>\n",
       "      <td>59.6067</td>\n",
       "      <td>59.4015</td>\n",
       "      <td>59.1830</td>\n",
       "      <td>59.3521</td>\n",
       "      <td>59.6697</td>\n",
       "      <td>59.5034</td>\n",
       "      <td>...</td>\n",
       "      <td>57.7388</td>\n",
       "      <td>56.7719</td>\n",
       "      <td>57.1507</td>\n",
       "      <td>57.6342</td>\n",
       "      <td>58.0967</td>\n",
       "      <td>57.8590</td>\n",
       "      <td>57.4762</td>\n",
       "      <td>57.9371</td>\n",
       "      <td>57.9627</td>\n",
       "      <td>58.3776</td>\n",
       "    </tr>\n",
       "    <tr>\n",
       "      <td>2</td>\n",
       "      <td>60.1614</td>\n",
       "      <td>59.4978</td>\n",
       "      <td>59.3700</td>\n",
       "      <td>59.6067</td>\n",
       "      <td>59.4015</td>\n",
       "      <td>59.1830</td>\n",
       "      <td>59.3521</td>\n",
       "      <td>59.6697</td>\n",
       "      <td>59.5034</td>\n",
       "      <td>59.2168</td>\n",
       "      <td>...</td>\n",
       "      <td>56.7719</td>\n",
       "      <td>57.1507</td>\n",
       "      <td>57.6342</td>\n",
       "      <td>58.0967</td>\n",
       "      <td>57.8590</td>\n",
       "      <td>57.4762</td>\n",
       "      <td>57.9371</td>\n",
       "      <td>57.9627</td>\n",
       "      <td>58.3776</td>\n",
       "      <td>58.4067</td>\n",
       "    </tr>\n",
       "    <tr>\n",
       "      <td>3</td>\n",
       "      <td>59.4978</td>\n",
       "      <td>59.3700</td>\n",
       "      <td>59.6067</td>\n",
       "      <td>59.4015</td>\n",
       "      <td>59.1830</td>\n",
       "      <td>59.3521</td>\n",
       "      <td>59.6697</td>\n",
       "      <td>59.5034</td>\n",
       "      <td>59.2168</td>\n",
       "      <td>59.1489</td>\n",
       "      <td>...</td>\n",
       "      <td>57.1507</td>\n",
       "      <td>57.6342</td>\n",
       "      <td>58.0967</td>\n",
       "      <td>57.8590</td>\n",
       "      <td>57.4762</td>\n",
       "      <td>57.9371</td>\n",
       "      <td>57.9627</td>\n",
       "      <td>58.3776</td>\n",
       "      <td>58.4067</td>\n",
       "      <td>58.9099</td>\n",
       "    </tr>\n",
       "    <tr>\n",
       "      <td>4</td>\n",
       "      <td>59.3700</td>\n",
       "      <td>59.6067</td>\n",
       "      <td>59.4015</td>\n",
       "      <td>59.1830</td>\n",
       "      <td>59.3521</td>\n",
       "      <td>59.6697</td>\n",
       "      <td>59.5034</td>\n",
       "      <td>59.2168</td>\n",
       "      <td>59.1489</td>\n",
       "      <td>59.6356</td>\n",
       "      <td>...</td>\n",
       "      <td>57.6342</td>\n",
       "      <td>58.0967</td>\n",
       "      <td>57.8590</td>\n",
       "      <td>57.4762</td>\n",
       "      <td>57.9371</td>\n",
       "      <td>57.9627</td>\n",
       "      <td>58.3776</td>\n",
       "      <td>58.4067</td>\n",
       "      <td>58.9099</td>\n",
       "      <td>58.3370</td>\n",
       "    </tr>\n",
       "    <tr>\n",
       "      <td>...</td>\n",
       "      <td>...</td>\n",
       "      <td>...</td>\n",
       "      <td>...</td>\n",
       "      <td>...</td>\n",
       "      <td>...</td>\n",
       "      <td>...</td>\n",
       "      <td>...</td>\n",
       "      <td>...</td>\n",
       "      <td>...</td>\n",
       "      <td>...</td>\n",
       "      <td>...</td>\n",
       "      <td>...</td>\n",
       "      <td>...</td>\n",
       "      <td>...</td>\n",
       "      <td>...</td>\n",
       "      <td>...</td>\n",
       "      <td>...</td>\n",
       "      <td>...</td>\n",
       "      <td>...</td>\n",
       "      <td>...</td>\n",
       "      <td>...</td>\n",
       "    </tr>\n",
       "    <tr>\n",
       "      <td>680</td>\n",
       "      <td>64.8259</td>\n",
       "      <td>64.8672</td>\n",
       "      <td>65.0976</td>\n",
       "      <td>64.7416</td>\n",
       "      <td>64.2237</td>\n",
       "      <td>64.3652</td>\n",
       "      <td>64.2548</td>\n",
       "      <td>64.3455</td>\n",
       "      <td>64.0144</td>\n",
       "      <td>63.9542</td>\n",
       "      <td>...</td>\n",
       "      <td>63.8530</td>\n",
       "      <td>64.2009</td>\n",
       "      <td>64.2101</td>\n",
       "      <td>63.8881</td>\n",
       "      <td>63.7542</td>\n",
       "      <td>63.7730</td>\n",
       "      <td>64.0213</td>\n",
       "      <td>63.8430</td>\n",
       "      <td>63.7101</td>\n",
       "      <td>63.7637</td>\n",
       "    </tr>\n",
       "    <tr>\n",
       "      <td>681</td>\n",
       "      <td>64.8672</td>\n",
       "      <td>65.0976</td>\n",
       "      <td>64.7416</td>\n",
       "      <td>64.2237</td>\n",
       "      <td>64.3652</td>\n",
       "      <td>64.2548</td>\n",
       "      <td>64.3455</td>\n",
       "      <td>64.0144</td>\n",
       "      <td>63.9542</td>\n",
       "      <td>63.7606</td>\n",
       "      <td>...</td>\n",
       "      <td>64.2009</td>\n",
       "      <td>64.2101</td>\n",
       "      <td>63.8881</td>\n",
       "      <td>63.7542</td>\n",
       "      <td>63.7730</td>\n",
       "      <td>64.0213</td>\n",
       "      <td>63.8430</td>\n",
       "      <td>63.7101</td>\n",
       "      <td>63.7637</td>\n",
       "      <td>64.0239</td>\n",
       "    </tr>\n",
       "    <tr>\n",
       "      <td>682</td>\n",
       "      <td>65.0976</td>\n",
       "      <td>64.7416</td>\n",
       "      <td>64.2237</td>\n",
       "      <td>64.3652</td>\n",
       "      <td>64.2548</td>\n",
       "      <td>64.3455</td>\n",
       "      <td>64.0144</td>\n",
       "      <td>63.9542</td>\n",
       "      <td>63.7606</td>\n",
       "      <td>63.6336</td>\n",
       "      <td>...</td>\n",
       "      <td>64.2101</td>\n",
       "      <td>63.8881</td>\n",
       "      <td>63.7542</td>\n",
       "      <td>63.7730</td>\n",
       "      <td>64.0213</td>\n",
       "      <td>63.8430</td>\n",
       "      <td>63.7101</td>\n",
       "      <td>63.7637</td>\n",
       "      <td>64.0239</td>\n",
       "      <td>63.9722</td>\n",
       "    </tr>\n",
       "    <tr>\n",
       "      <td>683</td>\n",
       "      <td>64.7416</td>\n",
       "      <td>64.2237</td>\n",
       "      <td>64.3652</td>\n",
       "      <td>64.2548</td>\n",
       "      <td>64.3455</td>\n",
       "      <td>64.0144</td>\n",
       "      <td>63.9542</td>\n",
       "      <td>63.7606</td>\n",
       "      <td>63.6336</td>\n",
       "      <td>63.7997</td>\n",
       "      <td>...</td>\n",
       "      <td>63.8881</td>\n",
       "      <td>63.7542</td>\n",
       "      <td>63.7730</td>\n",
       "      <td>64.0213</td>\n",
       "      <td>63.8430</td>\n",
       "      <td>63.7101</td>\n",
       "      <td>63.7637</td>\n",
       "      <td>64.0239</td>\n",
       "      <td>63.9722</td>\n",
       "      <td>64.1005</td>\n",
       "    </tr>\n",
       "    <tr>\n",
       "      <td>684</td>\n",
       "      <td>64.2237</td>\n",
       "      <td>64.3652</td>\n",
       "      <td>64.2548</td>\n",
       "      <td>64.3455</td>\n",
       "      <td>64.0144</td>\n",
       "      <td>63.9542</td>\n",
       "      <td>63.7606</td>\n",
       "      <td>63.6336</td>\n",
       "      <td>63.7997</td>\n",
       "      <td>63.8600</td>\n",
       "      <td>...</td>\n",
       "      <td>63.7542</td>\n",
       "      <td>63.7730</td>\n",
       "      <td>64.0213</td>\n",
       "      <td>63.8430</td>\n",
       "      <td>63.7101</td>\n",
       "      <td>63.7637</td>\n",
       "      <td>64.0239</td>\n",
       "      <td>63.9722</td>\n",
       "      <td>64.1005</td>\n",
       "      <td>64.0817</td>\n",
       "    </tr>\n",
       "  </tbody>\n",
       "</table>\n",
       "<p>685 rows × 35 columns</p>\n",
       "</div>"
      ],
      "text/plain": [
       "      past_0   past_1   past_2   past_3   past_4   past_5   past_6   past_7  \\\n",
       "0    59.8961  59.9533  60.1614  59.4978  59.3700  59.6067  59.4015  59.1830   \n",
       "1    59.9533  60.1614  59.4978  59.3700  59.6067  59.4015  59.1830  59.3521   \n",
       "2    60.1614  59.4978  59.3700  59.6067  59.4015  59.1830  59.3521  59.6697   \n",
       "3    59.4978  59.3700  59.6067  59.4015  59.1830  59.3521  59.6697  59.5034   \n",
       "4    59.3700  59.6067  59.4015  59.1830  59.3521  59.6697  59.5034  59.2168   \n",
       "..       ...      ...      ...      ...      ...      ...      ...      ...   \n",
       "680  64.8259  64.8672  65.0976  64.7416  64.2237  64.3652  64.2548  64.3455   \n",
       "681  64.8672  65.0976  64.7416  64.2237  64.3652  64.2548  64.3455  64.0144   \n",
       "682  65.0976  64.7416  64.2237  64.3652  64.2548  64.3455  64.0144  63.9542   \n",
       "683  64.7416  64.2237  64.3652  64.2548  64.3455  64.0144  63.9542  63.7606   \n",
       "684  64.2237  64.3652  64.2548  64.3455  64.0144  63.9542  63.7606  63.6336   \n",
       "\n",
       "      past_8   past_9  ...  past_25  past_26  past_27  future_0  future_1  \\\n",
       "0    59.3521  59.6697  ...  58.0619  57.7388  56.7719   57.1507   57.6342   \n",
       "1    59.6697  59.5034  ...  57.7388  56.7719  57.1507   57.6342   58.0967   \n",
       "2    59.5034  59.2168  ...  56.7719  57.1507  57.6342   58.0967   57.8590   \n",
       "3    59.2168  59.1489  ...  57.1507  57.6342  58.0967   57.8590   57.4762   \n",
       "4    59.1489  59.6356  ...  57.6342  58.0967  57.8590   57.4762   57.9371   \n",
       "..       ...      ...  ...      ...      ...      ...       ...       ...   \n",
       "680  64.0144  63.9542  ...  63.8530  64.2009  64.2101   63.8881   63.7542   \n",
       "681  63.9542  63.7606  ...  64.2009  64.2101  63.8881   63.7542   63.7730   \n",
       "682  63.7606  63.6336  ...  64.2101  63.8881  63.7542   63.7730   64.0213   \n",
       "683  63.6336  63.7997  ...  63.8881  63.7542  63.7730   64.0213   63.8430   \n",
       "684  63.7997  63.8600  ...  63.7542  63.7730  64.0213   63.8430   63.7101   \n",
       "\n",
       "     future_2  future_3  future_4  future_5  future_6  \n",
       "0     58.0967   57.8590   57.4762   57.9371   57.9627  \n",
       "1     57.8590   57.4762   57.9371   57.9627   58.3776  \n",
       "2     57.4762   57.9371   57.9627   58.3776   58.4067  \n",
       "3     57.9371   57.9627   58.3776   58.4067   58.9099  \n",
       "4     57.9627   58.3776   58.4067   58.9099   58.3370  \n",
       "..        ...       ...       ...       ...       ...  \n",
       "680   63.7730   64.0213   63.8430   63.7101   63.7637  \n",
       "681   64.0213   63.8430   63.7101   63.7637   64.0239  \n",
       "682   63.8430   63.7101   63.7637   64.0239   63.9722  \n",
       "683   63.7101   63.7637   64.0239   63.9722   64.1005  \n",
       "684   63.7637   64.0239   63.9722   64.1005   64.0817  \n",
       "\n",
       "[685 rows x 35 columns]"
      ]
     },
     "execution_count": 28,
     "metadata": {},
     "output_type": "execute_result"
    }
   ],
   "source": [
    "df"
   ]
  },
  {
   "cell_type": "code",
   "execution_count": 29,
   "metadata": {},
   "outputs": [],
   "source": [
    "# учебник - тренировочная выборка\n",
    "X = df[past_columns][:-20] # входные данные\n",
    "Y = df[future_columns][:-20] # ответы"
   ]
  },
  {
   "cell_type": "code",
   "execution_count": 30,
   "metadata": {},
   "outputs": [],
   "source": [
    "# экзамен\n",
    "X_test = df[past_columns][-20:] # задачи\n",
    "Y_test = df[future_columns][-20:] # ответы"
   ]
  },
  {
   "cell_type": "code",
   "execution_count": 249,
   "metadata": {},
   "outputs": [],
   "source": [
    "from sklearn.linear_model import LinearRegression"
   ]
  },
  {
   "cell_type": "code",
   "execution_count": 250,
   "metadata": {},
   "outputs": [],
   "source": [
    "LinReg = LinearRegression()"
   ]
  },
  {
   "cell_type": "code",
   "execution_count": 251,
   "metadata": {},
   "outputs": [
    {
     "data": {
      "text/plain": [
       "LinearRegression(copy_X=True, fit_intercept=True, n_jobs=None, normalize=False)"
      ]
     },
     "execution_count": 251,
     "metadata": {},
     "output_type": "execute_result"
    }
   ],
   "source": [
    "LinReg.fit(X, Y) # все алгоритмы обучения sklearn имеют fit"
   ]
  },
  {
   "cell_type": "code",
   "execution_count": 252,
   "metadata": {},
   "outputs": [],
   "source": [
    "prediction = LinReg.predict(X_test)"
   ]
  },
  {
   "cell_type": "code",
   "execution_count": 253,
   "metadata": {},
   "outputs": [
    {
     "data": {
      "text/plain": [
       "array([64.01321109, 63.95959729, 63.94023366, 63.97910219, 63.96984916,\n",
       "       64.00732396, 63.96761631])"
      ]
     },
     "execution_count": 253,
     "metadata": {},
     "output_type": "execute_result"
    }
   ],
   "source": [
    "prediction[19] # предположение"
   ]
  },
  {
   "cell_type": "code",
   "execution_count": 254,
   "metadata": {},
   "outputs": [
    {
     "data": {
      "text/html": [
       "<div>\n",
       "<style scoped>\n",
       "    .dataframe tbody tr th:only-of-type {\n",
       "        vertical-align: middle;\n",
       "    }\n",
       "\n",
       "    .dataframe tbody tr th {\n",
       "        vertical-align: top;\n",
       "    }\n",
       "\n",
       "    .dataframe thead th {\n",
       "        text-align: right;\n",
       "    }\n",
       "</style>\n",
       "<table border=\"1\" class=\"dataframe\">\n",
       "  <thead>\n",
       "    <tr style=\"text-align: right;\">\n",
       "      <th></th>\n",
       "      <th>future_0</th>\n",
       "      <th>future_1</th>\n",
       "      <th>future_2</th>\n",
       "      <th>future_3</th>\n",
       "      <th>future_4</th>\n",
       "      <th>future_5</th>\n",
       "      <th>future_6</th>\n",
       "    </tr>\n",
       "  </thead>\n",
       "  <tbody>\n",
       "    <tr>\n",
       "      <td>684</td>\n",
       "      <td>63.843</td>\n",
       "      <td>63.7101</td>\n",
       "      <td>63.7637</td>\n",
       "      <td>64.0239</td>\n",
       "      <td>63.9722</td>\n",
       "      <td>64.1005</td>\n",
       "      <td>64.0817</td>\n",
       "    </tr>\n",
       "  </tbody>\n",
       "</table>\n",
       "</div>"
      ],
      "text/plain": [
       "     future_0  future_1  future_2  future_3  future_4  future_5  future_6\n",
       "684    63.843   63.7101   63.7637   64.0239   63.9722   64.1005   64.0817"
      ]
     },
     "execution_count": 254,
     "metadata": {},
     "output_type": "execute_result"
    }
   ],
   "source": [
    "Y_test[-1:]"
   ]
  },
  {
   "cell_type": "code",
   "execution_count": 68,
   "metadata": {},
   "outputs": [],
   "source": [
    "# сравниваем предсказание и реальные данные\n",
    "import matplotlib.pyplot as plt"
   ]
  },
  {
   "cell_type": "code",
   "execution_count": 60,
   "metadata": {},
   "outputs": [],
   "source": [
    "def plotChart(prediction, Y_test):\n",
    "    plt.plot(prediction, label=\"prediction\")\n",
    "    plt.plot(Y_test, label=\"real\")\n",
    "    plt.legend()"
   ]
  },
  {
   "cell_type": "code",
   "execution_count": 257,
   "metadata": {},
   "outputs": [
    {
     "data": {
      "image/png": "[encoded data removed]",
      "text/plain": [
       "<Figure size 432x288 with 1 Axes>"
      ]
     },
     "metadata": {
      "needs_background": "light"
     },
     "output_type": "display_data"
    }
   ],
   "source": [
    "plotChart(prediction[19], Y_test[-1:].iloc[0])"
   ]
  },
  {
   "cell_type": "code",
   "execution_count": 258,
   "metadata": {},
   "outputs": [],
   "source": [
    "# метрика ошибки\n",
    "from sklearn.metrics import mean_absolute_error"
   ]
  },
  {
   "cell_type": "code",
   "execution_count": 259,
   "metadata": {},
   "outputs": [
    {
     "data": {
      "text/plain": [
       "0.12152148942502704"
      ]
     },
     "execution_count": 259,
     "metadata": {},
     "output_type": "execute_result"
    }
   ],
   "source": [
    "# средняя ошибка за 1 день\n",
    "mean_absolute_error(Y_test[-1:].iloc[0], prediction[19])"
   ]
  },
  {
   "cell_type": "code",
   "execution_count": 59,
   "metadata": {},
   "outputs": [],
   "source": [
    "# средняя ошибка за весь экзамен\n",
    "def printErrors(prediction, Y_test):\n",
    "    error_list = []\n",
    "    for i in range(len(prediction)):\n",
    "        error = mean_absolute_error(Y_test.iloc[i], prediction[i])\n",
    "        error_list.append(error)\n",
    "    avg_err = sum(error_list) / len (error_list)\n",
    "    max_err = max(error_list)\n",
    "    print(\"Средняя ошибка = {}, Макс.ошибка = {}\".format(avg_err, max_err))\n"
   ]
  },
  {
   "cell_type": "code",
   "execution_count": 261,
   "metadata": {},
   "outputs": [
    {
     "name": "stdout",
     "output_type": "stream",
     "text": [
      "Средняя ошибка = 0.23703719090835967, Макс.ошибка = 0.7506802738568175\n"
     ]
    }
   ],
   "source": [
    "printErrors(prediction, Y_test)"
   ]
  },
  {
   "cell_type": "code",
   "execution_count": 262,
   "metadata": {},
   "outputs": [],
   "source": [
    "# попробуем другие алгоритмы"
   ]
  },
  {
   "cell_type": "code",
   "execution_count": 7,
   "metadata": {},
   "outputs": [],
   "source": [
    "from sklearn.neural_network import MLPRegressor\n",
    "MLP = MLPRegressor(max_iter=400)"
   ]
  },
  {
   "cell_type": "code",
   "execution_count": 264,
   "metadata": {},
   "outputs": [
    {
     "name": "stderr",
     "output_type": "stream",
     "text": [
      "C:\\Users\\oleg\\Anaconda3\\lib\\site-packages\\sklearn\\neural_network\\multilayer_perceptron.py:566: ConvergenceWarning: Stochastic Optimizer: Maximum iterations (400) reached and the optimization hasn't converged yet.\n",
      "  % self.max_iter, ConvergenceWarning)\n"
     ]
    },
    {
     "data": {
      "text/plain": [
       "MLPRegressor(activation='relu', alpha=0.0001, batch_size='auto', beta_1=0.9,\n",
       "             beta_2=0.999, early_stopping=False, epsilon=1e-08,\n",
       "             hidden_layer_sizes=(100,), learning_rate='constant',\n",
       "             learning_rate_init=0.001, max_iter=400, momentum=0.9,\n",
       "             n_iter_no_change=10, nesterovs_momentum=True, power_t=0.5,\n",
       "             random_state=None, shuffle=True, solver='adam', tol=0.0001,\n",
       "             validation_fraction=0.1, verbose=False, warm_start=False)"
      ]
     },
     "execution_count": 264,
     "metadata": {},
     "output_type": "execute_result"
    }
   ],
   "source": [
    "MLP.fit(X, Y)"
   ]
  },
  {
   "cell_type": "code",
   "execution_count": 265,
   "metadata": {},
   "outputs": [],
   "source": [
    "predictionMLP = MLP.predict(X_test)"
   ]
  },
  {
   "cell_type": "code",
   "execution_count": 266,
   "metadata": {},
   "outputs": [
    {
     "data": {
      "image/png": "[encoded data removed]",
      "text/plain": [
       "<Figure size 432x288 with 1 Axes>"
      ]
     },
     "metadata": {
      "needs_background": "light"
     },
     "output_type": "display_data"
    }
   ],
   "source": [
    "plotChart(predictionMLP, Y_test)"
   ]
  },
  {
   "cell_type": "code",
   "execution_count": 279,
   "metadata": {},
   "outputs": [
    {
     "name": "stdout",
     "output_type": "stream",
     "text": [
      "Средняя ошибка = 0.26605390729186296, Макс.ошибка = 0.4160041768497434\n"
     ]
    }
   ],
   "source": [
    "printErrors(predictionMLP, Y_test)"
   ]
  },
  {
   "cell_type": "code",
   "execution_count": 280,
   "metadata": {},
   "outputs": [],
   "source": [
    "# ещё один\n",
    "from sklearn.neighbors import KNeighborsRegressor\n",
    "KNN = KNeighborsRegressor()"
   ]
  },
  {
   "cell_type": "code",
   "execution_count": 281,
   "metadata": {},
   "outputs": [],
   "source": [
    "KNN.fit(X, Y)\n",
    "predictKNN = KNN.predict(X_test)"
   ]
  },
  {
   "cell_type": "code",
   "execution_count": 282,
   "metadata": {},
   "outputs": [
    {
     "data": {
      "image/png": "[encoded data removed]",
      "text/plain": [
       "<Figure size 432x288 with 1 Axes>"
      ]
     },
     "metadata": {
      "needs_background": "light"
     },
     "output_type": "display_data"
    }
   ],
   "source": [
    "plotChart(predictKNN, Y_test)"
   ]
  },
  {
   "cell_type": "code",
   "execution_count": 283,
   "metadata": {},
   "outputs": [
    {
     "name": "stdout",
     "output_type": "stream",
     "text": [
      "Средняя ошибка = 0.9361865714285715, Макс.ошибка = 1.3808942857142819\n"
     ]
    }
   ],
   "source": [
    "printErrors(predictKNN, Y_test)"
   ]
  },
  {
   "cell_type": "code",
   "execution_count": 1,
   "metadata": {},
   "outputs": [],
   "source": [
    "# ДЗ\n",
    "# скачать датасет 1.1.2017 - 2.12.2019\n",
    "# подобрать настройки MLPRegressor\n",
    "# лучше чем 0.38 / 0.58 with random_state=42\n",
    "# + взять 2 других алгоритма\n",
    "# оформить в виде отчета notebook, с выводами (экспорт в html)\n",
    "# до 9 вечера!\n",
    "# https://teleg.run/joinchat/Di59WRXifyzkh8Xu-s6Xhg"
   ]
  },
  {
   "cell_type": "code",
   "execution_count": 3,
   "metadata": {},
   "outputs": [],
   "source": [
    "# решение подбора параметров и переобучения\n",
    "# кроссвалидация (CV) - обучаем модель на блоках данных по очереди\n",
    "# [xxxxxxxx----------------]\n",
    "# [--------xxxxxxxx--------]\n",
    "# [----------------xxxxxxxx]"
   ]
  },
  {
   "cell_type": "code",
   "execution_count": 10,
   "metadata": {},
   "outputs": [],
   "source": [
    "from sklearn.model_selection import GridSearchCV\n",
    "import numpy as np"
   ]
  },
  {
   "cell_type": "code",
   "execution_count": 36,
   "metadata": {},
   "outputs": [],
   "source": [
    "MLP = MLPRegressor()"
   ]
  },
  {
   "cell_type": "code",
   "execution_count": 53,
   "metadata": {},
   "outputs": [],
   "source": [
    "GS = GridSearchCV(MLP, {\n",
    "    'activation': ['logistic', 'tanh'],\n",
    "    'max_iter':np.linspace(100, 1000, 4, dtype=np.int16),\n",
    "    'hidden_layer_sizes': [(50,50), (100,100), (50,50,50)]\n",
    "}, cv=2, scoring='neg_mean_squared_error')"
   ]
  },
  {
   "cell_type": "code",
   "execution_count": 54,
   "metadata": {},
   "outputs": [
    {
     "name": "stderr",
     "output_type": "stream",
     "text": [
      "C:\\Users\\oleg\\Anaconda3\\lib\\site-packages\\sklearn\\neural_network\\multilayer_perceptron.py:566: ConvergenceWarning: Stochastic Optimizer: Maximum iterations (100) reached and the optimization hasn't converged yet.\n",
      "  % self.max_iter, ConvergenceWarning)\n",
      "C:\\Users\\oleg\\Anaconda3\\lib\\site-packages\\sklearn\\neural_network\\multilayer_perceptron.py:566: ConvergenceWarning: Stochastic Optimizer: Maximum iterations (100) reached and the optimization hasn't converged yet.\n",
      "  % self.max_iter, ConvergenceWarning)\n",
      "C:\\Users\\oleg\\Anaconda3\\lib\\site-packages\\sklearn\\neural_network\\multilayer_perceptron.py:566: ConvergenceWarning: Stochastic Optimizer: Maximum iterations (400) reached and the optimization hasn't converged yet.\n",
      "  % self.max_iter, ConvergenceWarning)\n",
      "C:\\Users\\oleg\\Anaconda3\\lib\\site-packages\\sklearn\\neural_network\\multilayer_perceptron.py:566: ConvergenceWarning: Stochastic Optimizer: Maximum iterations (400) reached and the optimization hasn't converged yet.\n",
      "  % self.max_iter, ConvergenceWarning)\n",
      "C:\\Users\\oleg\\Anaconda3\\lib\\site-packages\\sklearn\\neural_network\\multilayer_perceptron.py:566: ConvergenceWarning: Stochastic Optimizer: Maximum iterations (700) reached and the optimization hasn't converged yet.\n",
      "  % self.max_iter, ConvergenceWarning)\n",
      "C:\\Users\\oleg\\Anaconda3\\lib\\site-packages\\sklearn\\neural_network\\multilayer_perceptron.py:566: ConvergenceWarning: Stochastic Optimizer: Maximum iterations (700) reached and the optimization hasn't converged yet.\n",
      "  % self.max_iter, ConvergenceWarning)\n",
      "C:\\Users\\oleg\\Anaconda3\\lib\\site-packages\\sklearn\\neural_network\\multilayer_perceptron.py:566: ConvergenceWarning: Stochastic Optimizer: Maximum iterations (1000) reached and the optimization hasn't converged yet.\n",
      "  % self.max_iter, ConvergenceWarning)\n",
      "C:\\Users\\oleg\\Anaconda3\\lib\\site-packages\\sklearn\\neural_network\\multilayer_perceptron.py:566: ConvergenceWarning: Stochastic Optimizer: Maximum iterations (1000) reached and the optimization hasn't converged yet.\n",
      "  % self.max_iter, ConvergenceWarning)\n",
      "C:\\Users\\oleg\\Anaconda3\\lib\\site-packages\\sklearn\\neural_network\\multilayer_perceptron.py:566: ConvergenceWarning: Stochastic Optimizer: Maximum iterations (100) reached and the optimization hasn't converged yet.\n",
      "  % self.max_iter, ConvergenceWarning)\n",
      "C:\\Users\\oleg\\Anaconda3\\lib\\site-packages\\sklearn\\neural_network\\multilayer_perceptron.py:566: ConvergenceWarning: Stochastic Optimizer: Maximum iterations (100) reached and the optimization hasn't converged yet.\n",
      "  % self.max_iter, ConvergenceWarning)\n",
      "C:\\Users\\oleg\\Anaconda3\\lib\\site-packages\\sklearn\\neural_network\\multilayer_perceptron.py:566: ConvergenceWarning: Stochastic Optimizer: Maximum iterations (400) reached and the optimization hasn't converged yet.\n",
      "  % self.max_iter, ConvergenceWarning)\n",
      "C:\\Users\\oleg\\Anaconda3\\lib\\site-packages\\sklearn\\neural_network\\multilayer_perceptron.py:566: ConvergenceWarning: Stochastic Optimizer: Maximum iterations (400) reached and the optimization hasn't converged yet.\n",
      "  % self.max_iter, ConvergenceWarning)\n",
      "C:\\Users\\oleg\\Anaconda3\\lib\\site-packages\\sklearn\\neural_network\\multilayer_perceptron.py:566: ConvergenceWarning: Stochastic Optimizer: Maximum iterations (700) reached and the optimization hasn't converged yet.\n",
      "  % self.max_iter, ConvergenceWarning)\n",
      "C:\\Users\\oleg\\Anaconda3\\lib\\site-packages\\sklearn\\neural_network\\multilayer_perceptron.py:566: ConvergenceWarning: Stochastic Optimizer: Maximum iterations (700) reached and the optimization hasn't converged yet.\n",
      "  % self.max_iter, ConvergenceWarning)\n",
      "C:\\Users\\oleg\\Anaconda3\\lib\\site-packages\\sklearn\\neural_network\\multilayer_perceptron.py:566: ConvergenceWarning: Stochastic Optimizer: Maximum iterations (100) reached and the optimization hasn't converged yet.\n",
      "  % self.max_iter, ConvergenceWarning)\n",
      "C:\\Users\\oleg\\Anaconda3\\lib\\site-packages\\sklearn\\neural_network\\multilayer_perceptron.py:566: ConvergenceWarning: Stochastic Optimizer: Maximum iterations (100) reached and the optimization hasn't converged yet.\n",
      "  % self.max_iter, ConvergenceWarning)\n",
      "C:\\Users\\oleg\\Anaconda3\\lib\\site-packages\\sklearn\\neural_network\\multilayer_perceptron.py:566: ConvergenceWarning: Stochastic Optimizer: Maximum iterations (400) reached and the optimization hasn't converged yet.\n",
      "  % self.max_iter, ConvergenceWarning)\n",
      "C:\\Users\\oleg\\Anaconda3\\lib\\site-packages\\sklearn\\neural_network\\multilayer_perceptron.py:566: ConvergenceWarning: Stochastic Optimizer: Maximum iterations (400) reached and the optimization hasn't converged yet.\n",
      "  % self.max_iter, ConvergenceWarning)\n",
      "C:\\Users\\oleg\\Anaconda3\\lib\\site-packages\\sklearn\\neural_network\\multilayer_perceptron.py:566: ConvergenceWarning: Stochastic Optimizer: Maximum iterations (700) reached and the optimization hasn't converged yet.\n",
      "  % self.max_iter, ConvergenceWarning)\n",
      "C:\\Users\\oleg\\Anaconda3\\lib\\site-packages\\sklearn\\neural_network\\multilayer_perceptron.py:566: ConvergenceWarning: Stochastic Optimizer: Maximum iterations (700) reached and the optimization hasn't converged yet.\n",
      "  % self.max_iter, ConvergenceWarning)\n",
      "C:\\Users\\oleg\\Anaconda3\\lib\\site-packages\\sklearn\\neural_network\\multilayer_perceptron.py:566: ConvergenceWarning: Stochastic Optimizer: Maximum iterations (1000) reached and the optimization hasn't converged yet.\n",
      "  % self.max_iter, ConvergenceWarning)\n",
      "C:\\Users\\oleg\\Anaconda3\\lib\\site-packages\\sklearn\\neural_network\\multilayer_perceptron.py:566: ConvergenceWarning: Stochastic Optimizer: Maximum iterations (1000) reached and the optimization hasn't converged yet.\n",
      "  % self.max_iter, ConvergenceWarning)\n",
      "C:\\Users\\oleg\\Anaconda3\\lib\\site-packages\\sklearn\\neural_network\\multilayer_perceptron.py:566: ConvergenceWarning: Stochastic Optimizer: Maximum iterations (100) reached and the optimization hasn't converged yet.\n",
      "  % self.max_iter, ConvergenceWarning)\n",
      "C:\\Users\\oleg\\Anaconda3\\lib\\site-packages\\sklearn\\neural_network\\multilayer_perceptron.py:566: ConvergenceWarning: Stochastic Optimizer: Maximum iterations (100) reached and the optimization hasn't converged yet.\n",
      "  % self.max_iter, ConvergenceWarning)\n",
      "C:\\Users\\oleg\\Anaconda3\\lib\\site-packages\\sklearn\\neural_network\\multilayer_perceptron.py:566: ConvergenceWarning: Stochastic Optimizer: Maximum iterations (400) reached and the optimization hasn't converged yet.\n",
      "  % self.max_iter, ConvergenceWarning)\n",
      "C:\\Users\\oleg\\Anaconda3\\lib\\site-packages\\sklearn\\neural_network\\multilayer_perceptron.py:566: ConvergenceWarning: Stochastic Optimizer: Maximum iterations (400) reached and the optimization hasn't converged yet.\n",
      "  % self.max_iter, ConvergenceWarning)\n",
      "C:\\Users\\oleg\\Anaconda3\\lib\\site-packages\\sklearn\\neural_network\\multilayer_perceptron.py:566: ConvergenceWarning: Stochastic Optimizer: Maximum iterations (700) reached and the optimization hasn't converged yet.\n",
      "  % self.max_iter, ConvergenceWarning)\n",
      "C:\\Users\\oleg\\Anaconda3\\lib\\site-packages\\sklearn\\neural_network\\multilayer_perceptron.py:566: ConvergenceWarning: Stochastic Optimizer: Maximum iterations (700) reached and the optimization hasn't converged yet.\n",
      "  % self.max_iter, ConvergenceWarning)\n",
      "C:\\Users\\oleg\\Anaconda3\\lib\\site-packages\\sklearn\\neural_network\\multilayer_perceptron.py:566: ConvergenceWarning: Stochastic Optimizer: Maximum iterations (1000) reached and the optimization hasn't converged yet.\n",
      "  % self.max_iter, ConvergenceWarning)\n",
      "C:\\Users\\oleg\\Anaconda3\\lib\\site-packages\\sklearn\\neural_network\\multilayer_perceptron.py:566: ConvergenceWarning: Stochastic Optimizer: Maximum iterations (1000) reached and the optimization hasn't converged yet.\n",
      "  % self.max_iter, ConvergenceWarning)\n",
      "C:\\Users\\oleg\\Anaconda3\\lib\\site-packages\\sklearn\\neural_network\\multilayer_perceptron.py:566: ConvergenceWarning: Stochastic Optimizer: Maximum iterations (100) reached and the optimization hasn't converged yet.\n",
      "  % self.max_iter, ConvergenceWarning)\n",
      "C:\\Users\\oleg\\Anaconda3\\lib\\site-packages\\sklearn\\neural_network\\multilayer_perceptron.py:566: ConvergenceWarning: Stochastic Optimizer: Maximum iterations (100) reached and the optimization hasn't converged yet.\n",
      "  % self.max_iter, ConvergenceWarning)\n",
      "C:\\Users\\oleg\\Anaconda3\\lib\\site-packages\\sklearn\\neural_network\\multilayer_perceptron.py:566: ConvergenceWarning: Stochastic Optimizer: Maximum iterations (400) reached and the optimization hasn't converged yet.\n",
      "  % self.max_iter, ConvergenceWarning)\n"
     ]
    },
    {
     "name": "stderr",
     "output_type": "stream",
     "text": [
      "C:\\Users\\oleg\\Anaconda3\\lib\\site-packages\\sklearn\\neural_network\\multilayer_perceptron.py:566: ConvergenceWarning: Stochastic Optimizer: Maximum iterations (400) reached and the optimization hasn't converged yet.\n",
      "  % self.max_iter, ConvergenceWarning)\n",
      "C:\\Users\\oleg\\Anaconda3\\lib\\site-packages\\sklearn\\neural_network\\multilayer_perceptron.py:566: ConvergenceWarning: Stochastic Optimizer: Maximum iterations (700) reached and the optimization hasn't converged yet.\n",
      "  % self.max_iter, ConvergenceWarning)\n",
      "C:\\Users\\oleg\\Anaconda3\\lib\\site-packages\\sklearn\\neural_network\\multilayer_perceptron.py:566: ConvergenceWarning: Stochastic Optimizer: Maximum iterations (700) reached and the optimization hasn't converged yet.\n",
      "  % self.max_iter, ConvergenceWarning)\n",
      "C:\\Users\\oleg\\Anaconda3\\lib\\site-packages\\sklearn\\neural_network\\multilayer_perceptron.py:566: ConvergenceWarning: Stochastic Optimizer: Maximum iterations (100) reached and the optimization hasn't converged yet.\n",
      "  % self.max_iter, ConvergenceWarning)\n",
      "C:\\Users\\oleg\\Anaconda3\\lib\\site-packages\\sklearn\\neural_network\\multilayer_perceptron.py:566: ConvergenceWarning: Stochastic Optimizer: Maximum iterations (100) reached and the optimization hasn't converged yet.\n",
      "  % self.max_iter, ConvergenceWarning)\n",
      "C:\\Users\\oleg\\Anaconda3\\lib\\site-packages\\sklearn\\neural_network\\multilayer_perceptron.py:566: ConvergenceWarning: Stochastic Optimizer: Maximum iterations (400) reached and the optimization hasn't converged yet.\n",
      "  % self.max_iter, ConvergenceWarning)\n",
      "C:\\Users\\oleg\\Anaconda3\\lib\\site-packages\\sklearn\\neural_network\\multilayer_perceptron.py:566: ConvergenceWarning: Stochastic Optimizer: Maximum iterations (400) reached and the optimization hasn't converged yet.\n",
      "  % self.max_iter, ConvergenceWarning)\n",
      "C:\\Users\\oleg\\Anaconda3\\lib\\site-packages\\sklearn\\neural_network\\multilayer_perceptron.py:566: ConvergenceWarning: Stochastic Optimizer: Maximum iterations (700) reached and the optimization hasn't converged yet.\n",
      "  % self.max_iter, ConvergenceWarning)\n",
      "C:\\Users\\oleg\\Anaconda3\\lib\\site-packages\\sklearn\\neural_network\\multilayer_perceptron.py:566: ConvergenceWarning: Stochastic Optimizer: Maximum iterations (700) reached and the optimization hasn't converged yet.\n",
      "  % self.max_iter, ConvergenceWarning)\n",
      "C:\\Users\\oleg\\Anaconda3\\lib\\site-packages\\sklearn\\neural_network\\multilayer_perceptron.py:566: ConvergenceWarning: Stochastic Optimizer: Maximum iterations (1000) reached and the optimization hasn't converged yet.\n",
      "  % self.max_iter, ConvergenceWarning)\n",
      "C:\\Users\\oleg\\Anaconda3\\lib\\site-packages\\sklearn\\neural_network\\multilayer_perceptron.py:566: ConvergenceWarning: Stochastic Optimizer: Maximum iterations (1000) reached and the optimization hasn't converged yet.\n",
      "  % self.max_iter, ConvergenceWarning)\n"
     ]
    },
    {
     "data": {
      "text/plain": [
       "GridSearchCV(cv=2, error_score='raise-deprecating',\n",
       "             estimator=MLPRegressor(activation='relu', alpha=0.0001,\n",
       "                                    batch_size='auto', beta_1=0.9, beta_2=0.999,\n",
       "                                    early_stopping=False, epsilon=1e-08,\n",
       "                                    hidden_layer_sizes=(100,),\n",
       "                                    learning_rate='constant',\n",
       "                                    learning_rate_init=0.001, max_iter=200,\n",
       "                                    momentum=0.9, n_iter_no_change=10,\n",
       "                                    nesterovs_momentum=True, power_t=0.5,\n",
       "                                    random_stat...\n",
       "                                    solver='adam', tol=0.0001,\n",
       "                                    validation_fraction=0.1, verbose=False,\n",
       "                                    warm_start=False),\n",
       "             iid='warn', n_jobs=None,\n",
       "             param_grid={'activation': ['logistic', 'tanh'],\n",
       "                         'hidden_layer_sizes': [(50, 50), (100, 100),\n",
       "                                                (50, 50, 50)],\n",
       "                         'max_iter': array([ 100,  400,  700, 1000], dtype=int16)},\n",
       "             pre_dispatch='2*n_jobs', refit=True, return_train_score=False,\n",
       "             scoring='neg_mean_squared_error', verbose=0)"
      ]
     },
     "execution_count": 54,
     "metadata": {},
     "output_type": "execute_result"
    }
   ],
   "source": [
    "GS.fit(X, Y)"
   ]
  },
  {
   "cell_type": "code",
   "execution_count": 55,
   "metadata": {},
   "outputs": [
    {
     "data": {
      "text/plain": [
       "MLPRegressor(activation='logistic', alpha=0.0001, batch_size='auto', beta_1=0.9,\n",
       "             beta_2=0.999, early_stopping=False, epsilon=1e-08,\n",
       "             hidden_layer_sizes=(50, 50, 50), learning_rate='constant',\n",
       "             learning_rate_init=0.001, max_iter=1000, momentum=0.9,\n",
       "             n_iter_no_change=10, nesterovs_momentum=True, power_t=0.5,\n",
       "             random_state=None, shuffle=True, solver='adam', tol=0.0001,\n",
       "             validation_fraction=0.1, verbose=False, warm_start=False)"
      ]
     },
     "execution_count": 55,
     "metadata": {},
     "output_type": "execute_result"
    }
   ],
   "source": [
    "# лучшая модель\n",
    "GS.best_estimator_"
   ]
  },
  {
   "cell_type": "code",
   "execution_count": 56,
   "metadata": {},
   "outputs": [
    {
     "data": {
      "text/plain": [
       "-43.04454473980159"
      ]
     },
     "execution_count": 56,
     "metadata": {},
     "output_type": "execute_result"
    }
   ],
   "source": [
    "# лучшая оценка\n",
    "GS.best_score_"
   ]
  },
  {
   "cell_type": "code",
   "execution_count": 63,
   "metadata": {},
   "outputs": [],
   "source": [
    "BestMLP = GS.best_estimator_"
   ]
  },
  {
   "cell_type": "code",
   "execution_count": 69,
   "metadata": {},
   "outputs": [
    {
     "data": {
      "image/png": "[encoded data removed]",
      "text/plain": [
       "<Figure size 432x288 with 1 Axes>"
      ]
     },
     "metadata": {
      "needs_background": "light"
     },
     "output_type": "display_data"
    }
   ],
   "source": [
    "prediction = BestMLP.predict(X_test)\n",
    "# or GS.predict(X_test)\n",
    "plotChart(prediction, Y_test)"
   ]
  },
  {
   "cell_type": "code",
   "execution_count": null,
   "metadata": {},
   "outputs": [],
   "source": []
  }
 ],
 "metadata": {
  "kernelspec": {
   "display_name": "Python 3",
   "language": "python",
   "name": "python3"
  },
  "language_info": {
   "codemirror_mode": {
    "name": "ipython",
    "version": 3
   },
   "file_extension": ".py",
   "mimetype": "text/x-python",
   "name": "python",
   "nbconvert_exporter": "python",
   "pygments_lexer": "ipython3",
   "version": "3.7.4"
  }
 },
 "nbformat": 4,
 "nbformat_minor": 2
}
